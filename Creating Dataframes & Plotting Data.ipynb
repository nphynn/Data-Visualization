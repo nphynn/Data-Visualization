{
  "nbformat": 4,
  "nbformat_minor": 0,
  "metadata": {
    "colab": {
      "provenance": []
    },
    "kernelspec": {
      "name": "python3",
      "display_name": "Python 3"
    },
    "language_info": {
      "name": "python"
    }
  },
  "cells": [
    {
      "cell_type": "code",
      "source": [
        "import matplotlib.pyplot as plt\n",
        "%matplotlib inline\n",
        "plt.style.use('ggplot')\n",
        "import pandas as pd\n",
        "import numpy as np\n",
        "import seaborn as sns"
      ],
      "metadata": {
        "id": "2nivwqKk3X_e"
      },
      "execution_count": null,
      "outputs": []
    },
    {
      "cell_type": "code",
      "source": [
        "# Random data for Scatter Example\n",
        "df = pd.DataFrame({\"xs\":[1,5,2,8,1], \"ys\":[4,2,1,9,6]})"
      ],
      "metadata": {
        "id": "gum08q7C3xhU"
      },
      "execution_count": null,
      "outputs": []
    },
    {
      "cell_type": "code",
      "source": [
        "df.head()"
      ],
      "metadata": {
        "id": "defTaIbY5FI3"
      },
      "execution_count": null,
      "outputs": []
    },
    {
      "cell_type": "code",
      "execution_count": null,
      "metadata": {
        "collapsed": true,
        "id": "GAdQkDIFCN70"
      },
      "outputs": [],
      "source": [
        "# Example Scatter Plot\n",
        "df.plot.scatter('xs','ys', marker = 'x', color = 'green')\n",
        "plt.show()"
      ]
    },
    {
      "cell_type": "code",
      "source": [
        "# Dataframe for Scatter Plot\n",
        "da = pd.DataFrame({\"productivity\":[5,2,3,1,4,5,6,7,8,3,4,8,9],\n",
        "                   \"hours_in\"    :[1,9,6,5,3,9,2,9,1,7,4,2,2],\n",
        "                   \"happiness\"   :[2,1,3,2,3,1,2,3,1,2,2,1,3],\n",
        "                   \"caffienated\" :[0,0,1,1,0,0,0,0,1,1,0,1,0]})\n",
        "da.head()"
      ],
      "metadata": {
        "id": "f6MacJCs6e3N"
      },
      "execution_count": null,
      "outputs": []
    },
    {
      "cell_type": "code",
      "execution_count": null,
      "metadata": {
        "collapsed": true,
        "id": "TDpqEWBNCN70"
      },
      "outputs": [],
      "source": [
        "#Scatter Plot\n",
        "fig = da.plot.scatter('productivity', 'hours_in', label = 'hours_in')\n",
        "da.plot.scatter('productivity', 'happiness',ax = fig, label = 'happiness', color = 'red')\n",
        "da.plot.scatter('productivity','caffienated', ax = fig, color = 'green', label = 'coffee intake')\n",
        "fig.set_ylabel('Factors')\n",
        "fig.set_title('Bill Work Day')\n",
        "plt.show()"
      ]
    },
    {
      "cell_type": "code",
      "source": [
        "# Dataframe for Bar Plot\n",
        "di = pd.DataFrame({\"revenue\":[57,68,63,71,72,90,80,62,59,51,47,52],\n",
        "                   \"advertising\":[2.1,1.9,2.7,3.0,3.6,3.2,2.7,2.4,1.8,1.6,1.3,1.9],\n",
        "                   \"month\":range(12)\n",
        "                  })\n",
        "di.head()"
      ],
      "metadata": {
        "id": "U34y2BLR8lJl"
      },
      "execution_count": null,
      "outputs": []
    },
    {
      "cell_type": "code",
      "execution_count": null,
      "metadata": {
        "collapsed": true,
        "id": "GetbRt-5CN70"
      },
      "outputs": [],
      "source": [
        "# Bar Plot\n",
        "bar = di.plot.bar('month', 'revenue', color = 'brown')\n",
        "di.plot.line('month', 'advertising', color = 'yellow', ax = bar, secondary_y = True)\n",
        "bar.set_ylabel('Numbers in Millions')\n",
        "bar.set_title('Revenue vs Advertising')\n",
        "plt.show()"
      ]
    }
  ]
}